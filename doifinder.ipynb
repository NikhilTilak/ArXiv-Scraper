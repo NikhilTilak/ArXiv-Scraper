{
 "cells": [
  {
   "cell_type": "markdown",
   "metadata": {},
   "source": [
    "Given an arxiv identifier for a preprint, lookup the related doi of the published work."
   ]
  },
  {
   "cell_type": "code",
   "execution_count": 4,
   "metadata": {},
   "outputs": [],
   "source": [
    "import requests\n",
    "import bs4\n",
    "import doi2bib"
   ]
  },
  {
   "cell_type": "code",
   "execution_count": 36,
   "metadata": {},
   "outputs": [
    {
     "name": "stdout",
     "output_type": "stream",
     "text": [
      "10.1038/s41563-020-0706-8\n"
     ]
    }
   ],
   "source": [
    "arxivID=\"1910.13023\"\n",
    "url=f\"https://arxiv.org/abs/{arxivID}\"\n",
    "\n",
    "\n",
    "res = requests.get(url)\n",
    "res.raise_for_status()\n",
    "\n",
    "bs4obj=bs4.BeautifulSoup(res.text,features=\"html.parser\") # this is a beautifulsoup object made from the webpage. The parser is lxml.\n",
    "\n",
    "elems = bs4obj.find(\"a\", class_=\"link-https link-external\")[\"data-doi\"]\n",
    "\n",
    "print(elems)"
   ]
  },
  {
   "cell_type": "code",
   "execution_count": null,
   "metadata": {},
   "outputs": [],
   "source": []
  }
 ],
 "metadata": {
  "kernelspec": {
   "display_name": "Python 3.9.13 ('scraping')",
   "language": "python",
   "name": "python3"
  },
  "language_info": {
   "codemirror_mode": {
    "name": "ipython",
    "version": 3
   },
   "file_extension": ".py",
   "mimetype": "text/x-python",
   "name": "python",
   "nbconvert_exporter": "python",
   "pygments_lexer": "ipython3",
   "version": "3.9.13"
  },
  "orig_nbformat": 4,
  "vscode": {
   "interpreter": {
    "hash": "2721385f7c01f6aada2e9d858573c1e452ce2e4e7fea046234fe34317bd6757b"
   }
  }
 },
 "nbformat": 4,
 "nbformat_minor": 2
}
